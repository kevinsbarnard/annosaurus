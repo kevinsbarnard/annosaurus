{
 "cells": [
  {
   "cell_type": "markdown",
   "metadata": {},
   "source": [
    "# Annosaurus Tutorial\n",
    "\n",
    "This python3 notebook demonstrates the usage of the [Annosaurus](https://github.com/underwatervideo/annosaurus) API which is used for creating and editing video annotations. To get started you will need to start annosaurus. If you have [Docker](https://www.docker.com/) installed you can spin up annosaurus for testing with:\n",
    "\n",
    "```\n",
    "docker run --name=anno -p 8080:8080 hohonuuli/annosaurus\n",
    "```\n",
    "\n",
    "\n",
    "### Configure imports and define helper functions"
   ]
  },
  {
   "cell_type": "code",
   "execution_count": 414,
   "metadata": {
    "collapsed": true
   },
   "outputs": [],
   "source": [
    "import datetime\n",
    "import json\n",
    "import pprint\n",
    "import random\n",
    "import requests\n",
    "import urllib\n",
    "import uuid\n",
    "\n",
    "def show(s, data = None):\n",
    "    pp = pprint.PrettyPrinter(indent=2)\n",
    "    print(\"--- \" + s)\n",
    "    if data:\n",
    "      pp.pprint(data)\n",
    "    \n",
    "def iso8601():\n",
    "    return datetime.datetime.now(datetime.timezone.utc).isoformat()[0:-6] + \"Z\"\n",
    "    \n",
    "def parse_response(r):\n",
    "    try:\n",
    "       return json.loads(r.text)\n",
    "    except:\n",
    "        s = \"URL: %s\\n%s (%s): %s\" % (r.request.url, r.status_code, r.reason, r.text)\n",
    "        print(s)\n",
    "        return {}\n",
    "    \n",
    "    \n",
    "def delete(url):\n",
    "    return parse_response(requests.delete(url))\n",
    "\n",
    "def get(url):\n",
    "    return parse_response(requests.get(url))\n",
    "    \n",
    "def post(url, data = {}):\n",
    "    return parse_response(requests.post(url, data))\n",
    "\n",
    "def put(url, data = {}):\n",
    "    return parse_response(requests.put(url, data))\n"
   ]
  },
  {
   "cell_type": "markdown",
   "metadata": {},
   "source": [
    "### Define URLs\n",
    "\n",
    "Normally in an app or script you just define the endpoint and build the other API urls from that."
   ]
  },
  {
   "cell_type": "code",
   "execution_count": 415,
   "metadata": {
    "collapsed": true
   },
   "outputs": [],
   "source": [
    "# Define endpoint. \n",
    "endpoint = \"http://134.89.9.70:8080\"\n",
    "\n",
    "annotation_url = \"%s/v1/annotations\" % (endpoint)\n",
    "image_url = \"%s/v1/images\" % (endpoint)\n",
    "image_reference_url = \"%s/v1/imagereferences\" % (endpoint)\n",
    "imaged_moment_url = \"%s/v1/imagedmoments\" % (endpoint)\n",
    "observation_url = \"%s/v1/observations\" % (endpoint)\n",
    "association_url = \"%s/v1/associations\" % (endpoint)\n"
   ]
  },
  {
   "cell_type": "markdown",
   "metadata": {},
   "source": [
    "# High-level APIs\n",
    "\n",
    "The Annotation and Image APIs are high-level APIs to greatly simplify general usage. They are an abstraction for the lower level _ImagedMoment_, _Observation_, _ImageReference_, and _Association_ APIs. For creating and updating annotations and images, use the highly level APIs. If you need to delete or do fancy stuff you can use the lower level APIs\n",
    "\n",
    "## Annotation API\n",
    "\n",
    "The annotation API is used for creating and modifying annotations. You __can not delete__ with this API. Instead, you use the _Observation API_.\n",
    "\n",
    "Note that the APIs use [UUIDs](https://en.wikipedia.org/wiki/Universally_unique_identifier) as keys to identify particular items. \n",
    "\n",
    "### Create"
   ]
  },
  {
   "cell_type": "code",
   "execution_count": 416,
   "metadata": {
    "collapsed": false
   },
   "outputs": [
    {
     "name": "stdout",
     "output_type": "stream",
     "text": [
      "--- POST: http://134.89.9.70:8080/v1/annotations\n",
      "{ 'associations': [],\n",
      "  'concept': 'Nanomia bijuga',\n",
      "  'image_references': [],\n",
      "  'imaged_moment_uuid': 'b6dc8ba9-07c2-4257-b5ea-4f8cb192f573',\n",
      "  'observation_timestamp': '2017-02-16T19:19:39.311Z',\n",
      "  'observation_uuid': 'db725805-6297-4adc-b36c-8f88dc828b2b',\n",
      "  'observer': 'brian',\n",
      "  'recorded_timestamp': '2016-07-28T14:29:01.030Z',\n",
      "  'video_reference_uuid': 'eb7573be-9ce1-446c-ac05-75781e420db2'}\n"
     ]
    }
   ],
   "source": [
    "# id to a video file. Typically you get this from your video asset manager. \n",
    "# We're just creating a random one to use for this demo.\n",
    "video_reference_uuid = str(uuid.uuid4())\n",
    "\n",
    "# Create w/ minimum allowed fields\n",
    "annotation = post(annotation_url,\n",
    "                  data = {\"video_reference_uuid\": video_reference_uuid,\n",
    "                          \"concept\": \"Nanomia bijuga\",\n",
    "                          \"observer\": \"brian\",\n",
    "                          \"recorded_timestamp\": \"2016-07-28T14:29:01.030Z\"})\n",
    "show(\"POST: \" + annotation_url, annotation)\n"
   ]
  },
  {
   "cell_type": "code",
   "execution_count": 417,
   "metadata": {
    "collapsed": false,
    "scrolled": true
   },
   "outputs": [
    {
     "name": "stdout",
     "output_type": "stream",
     "text": [
      "--- POST: http://134.89.9.70:8080/v1/annotations\n",
      "{ 'activity': 'transect',\n",
      "  'associations': [],\n",
      "  'concept': 'Aegina citrea',\n",
      "  'duration_millis': 1200,\n",
      "  'elapsed_time_millis': 112345,\n",
      "  'group': 'ROV',\n",
      "  'image_references': [],\n",
      "  'imaged_moment_uuid': 'a68fdb80-bac0-425c-92c1-020f6adcd07b',\n",
      "  'observation_timestamp': '2016-07-28T15:01:02Z',\n",
      "  'observation_uuid': '1c6de7f8-7dcf-4bc5-b753-2b5866a0c877',\n",
      "  'observer': 'schlin',\n",
      "  'recorded_timestamp': '2016-07-28T14:39:02.123Z',\n",
      "  'timecode': '01:23:34:09',\n",
      "  'video_reference_uuid': 'eb7573be-9ce1-446c-ac05-75781e420db2'}\n"
     ]
    }
   ],
   "source": [
    "# Create with all possible fields, including optional values\n",
    "annotation = post(annotation_url,\n",
    "                  data = {\"video_reference_uuid\": video_reference_uuid,      # video or image grouping\n",
    "                          \"concept\": \"Aegina citrea\",                        # Name of what you saw\n",
    "                          \"observer\": \"schlin\",                              # Who made the observation\n",
    "                          \"observation_timestamp\": \"2016-07-28T15:01:02Z\",   # When the observation was make. Default is the servers timestamp\n",
    "                          \"timecode\": \"01:23:34:09\",                         # A tape timecode of annotation\n",
    "                          \"elapsed_time_millis\": \"112345\",                   # Time since start of video of annotation\n",
    "                          \"duration_millis\": \"1200\",                         # How long was object observed\n",
    "                          \"group\": \"ROV\",                                    # A logical group. At MBARI, we might use \"ROV\", \"AUV\", \"Station M\"\n",
    "                          \"activity\": \"transect\",                            # Another logical group. At MBARI, we would use, ascent, descent, transect, cruise, etc.\n",
    "                          \"recorded_timestamp\": \"2016-07-28T14:39:02.123Z\"}) # The time the frame was recorded. e.g. We saw this Aegina on this date.\n",
    "show(\"POST: \" + annotation_url, annotation)"
   ]
  },
  {
   "cell_type": "markdown",
   "metadata": {},
   "source": [
    "### Update"
   ]
  },
  {
   "cell_type": "code",
   "execution_count": 418,
   "metadata": {
    "collapsed": false
   },
   "outputs": [
    {
     "name": "stdout",
     "output_type": "stream",
     "text": [
      "--- PUT: http://134.89.9.70:8080/v1/annotations/1c6de7f8-7dcf-4bc5-b753-2b5866a0c877\n",
      "{ 'activity': 'transect',\n",
      "  'associations': [],\n",
      "  'concept': 'Atolla',\n",
      "  'duration_millis': 1200,\n",
      "  'elapsed_time_millis': 112345,\n",
      "  'group': 'ROV',\n",
      "  'image_references': [],\n",
      "  'imaged_moment_uuid': 'a68fdb80-bac0-425c-92c1-020f6adcd07b',\n",
      "  'observation_timestamp': '2017-02-16T19:19:39.374Z',\n",
      "  'observation_uuid': '1c6de7f8-7dcf-4bc5-b753-2b5866a0c877',\n",
      "  'observer': 'schlin',\n",
      "  'recorded_timestamp': '2016-07-28T14:39:02.123Z',\n",
      "  'timecode': '01:23:34:09',\n",
      "  'video_reference_uuid': 'eb7573be-9ce1-446c-ac05-75781e420db2'}\n"
     ]
    }
   ],
   "source": [
    "# Update/Modify an existing annotation\n",
    "\n",
    "observation_uuid = annotation[\"observation_uuid\"]\n",
    "\n",
    "# At a minimum you need the observation_uuid and one field. The observation_timestamp\n",
    "# will automatically be updated to the time on the server (UTC). Here we just change\n",
    "# the concept name. Normally, you might need to update the observer field too.\n",
    "put_url = \"%s/%s\" % (annotation_url, observation_uuid)\n",
    "annotation = put(put_url,\n",
    "                 data = {\"observation_uuid\": observation_uuid,\n",
    "                         \"concept\": \"Atolla\"})\n",
    "show(\"PUT: \" + put_url, annotation)"
   ]
  },
  {
   "cell_type": "code",
   "execution_count": 419,
   "metadata": {
    "collapsed": false
   },
   "outputs": [
    {
     "name": "stdout",
     "output_type": "stream",
     "text": [
      "--- PUT: http://134.89.9.70:8080/v1/annotations/1c6de7f8-7dcf-4bc5-b753-2b5866a0c877\n",
      "{ 'activity': 'descent',\n",
      "  'associations': [],\n",
      "  'concept': 'Pandalus platyceros',\n",
      "  'duration_millis': 8,\n",
      "  'elapsed_time_millis': 3045999,\n",
      "  'group': 'AUV',\n",
      "  'image_references': [],\n",
      "  'imaged_moment_uuid': '926fa4f6-368d-47d0-9396-ae00e1a329fa',\n",
      "  'observation_timestamp': '2017-02-16T19:19:39.405151Z',\n",
      "  'observation_uuid': '1c6de7f8-7dcf-4bc5-b753-2b5866a0c877',\n",
      "  'observer': 'danelle',\n",
      "  'recorded_timestamp': '2017-07-28T14:39:02.123Z',\n",
      "  'timecode': '08:00:34:09',\n",
      "  'video_reference_uuid': 'd0a26ac5-5f96-4997-85b2-b28348c4d6c3'}\n"
     ]
    }
   ],
   "source": [
    "# You can update any and all fields in one call as we do here.\n",
    "annotation = put(put_url,\n",
    "                  data = {\"video_reference_uuid\": str(uuid.uuid4()),         # Here we move the annotation to a new video\n",
    "                          \"concept\": \"Pandalus platyceros\",                  # Name of what you saw\n",
    "                          \"observer\": \"danelle\",                             # Who made the observation\n",
    "                          \"observation_timestamp\": iso8601(),                # When the observation was make. Default is the servers timestamp\n",
    "                          \"timecode\": \"08:00:34:09\",                         # A tape timecode of annotation\n",
    "                          \"elapsed_time_millis\": \"3045999\",                  # Time since start of video of annotation\n",
    "                          \"duration_millis\": \"8\",                            # How long was object observed\n",
    "                          \"group\": \"AUV\",                                    # A logical group. At MBARI, we might use \"ROV\", \"AUV\", \"Station M\"\n",
    "                          \"activity\": \"descent\",                             # Another logical group. At MBARI, we would use, ascent, descent, transect, cruise, etc.\n",
    "                          \"recorded_timestamp\": \"2017-07-28T14:39:02.123Z\"}) # The time the frame was recorded. e.g. We saw this Aegina on this date.\n",
    "show(\"PUT: \" + put_url, annotation)\n"
   ]
  },
  {
   "cell_type": "markdown",
   "metadata": {},
   "source": [
    "### Find"
   ]
  },
  {
   "cell_type": "code",
   "execution_count": 420,
   "metadata": {
    "collapsed": false
   },
   "outputs": [
    {
     "name": "stdout",
     "output_type": "stream",
     "text": [
      "--- GET: http://134.89.9.70:8080/v1/annotations/1c6de7f8-7dcf-4bc5-b753-2b5866a0c877\n",
      "{ 'activity': 'descent',\n",
      "  'associations': [],\n",
      "  'concept': 'Pandalus platyceros',\n",
      "  'duration_millis': 8,\n",
      "  'elapsed_time_millis': 3045999,\n",
      "  'group': 'AUV',\n",
      "  'image_references': [],\n",
      "  'imaged_moment_uuid': '926fa4f6-368d-47d0-9396-ae00e1a329fa',\n",
      "  'observation_timestamp': '2017-02-16T19:19:39.405Z',\n",
      "  'observation_uuid': '1c6de7f8-7dcf-4bc5-b753-2b5866a0c877',\n",
      "  'observer': 'danelle',\n",
      "  'recorded_timestamp': '2017-07-28T14:39:02.123Z',\n",
      "  'timecode': '08:00:34:09',\n",
      "  'video_reference_uuid': 'd0a26ac5-5f96-4997-85b2-b28348c4d6c3'}\n"
     ]
    }
   ],
   "source": [
    "# Find an annotation by observation_uuid\n",
    "get_url = \"%s/%s\" % (annotation_url, annotation[\"observation_uuid\"])\n",
    "annotation = get(get_url)\n",
    "show(\"GET: \" + get_url, annotation)"
   ]
  },
  {
   "cell_type": "code",
   "execution_count": 421,
   "metadata": {
    "collapsed": false
   },
   "outputs": [
    {
     "name": "stdout",
     "output_type": "stream",
     "text": [
      "--- GET: http://134.89.9.70:8080/v1/annotations/videoreference/d0a26ac5-5f96-4997-85b2-b28348c4d6c3\n",
      "[ { 'activity': 'descent',\n",
      "    'associations': [],\n",
      "    'concept': 'Pandalus platyceros',\n",
      "    'duration_millis': 8,\n",
      "    'elapsed_time_millis': 3045999,\n",
      "    'group': 'AUV',\n",
      "    'image_references': [],\n",
      "    'imaged_moment_uuid': '926fa4f6-368d-47d0-9396-ae00e1a329fa',\n",
      "    'observation_timestamp': '2017-02-16T19:19:39.405Z',\n",
      "    'observation_uuid': '1c6de7f8-7dcf-4bc5-b753-2b5866a0c877',\n",
      "    'observer': 'danelle',\n",
      "    'recorded_timestamp': '2017-07-28T14:39:02.123Z',\n",
      "    'timecode': '08:00:34:09',\n",
      "    'video_reference_uuid': 'd0a26ac5-5f96-4997-85b2-b28348c4d6c3'}]\n"
     ]
    }
   ],
   "source": [
    "# Find all annotation for a specific video\n",
    "get_url = \"%s/videoreference/%s\" % (annotation_url, annotation[\"video_reference_uuid\"])\n",
    "annotations = get(get_url)\n",
    "show(\"GET: \" + get_url, annotations)"
   ]
  },
  {
   "cell_type": "markdown",
   "metadata": {},
   "source": [
    "## Image API\n",
    "\n",
    "The image API is for registering images. These image can be associated with a particular video but do not have to be. Images are referenced via a URL, not a file path.\n",
    "\n",
    "### Create"
   ]
  },
  {
   "cell_type": "code",
   "execution_count": 422,
   "metadata": {
    "collapsed": false
   },
   "outputs": [
    {
     "name": "stdout",
     "output_type": "stream",
     "text": [
      "--- POST:http://134.89.9.70:8080/v1/images\n",
      "{ 'elapsed_time_millis': 3045999,\n",
      "  'height': 0,\n",
      "  'image_reference_uuid': '018cde12-db99-41ea-9a0a-e2fe0b52ef0b',\n",
      "  'imaged_moment_uuid': '926fa4f6-368d-47d0-9396-ae00e1a329fa',\n",
      "  'recorded_timestamp': '2017-07-28T14:39:02.123Z',\n",
      "  'timecode': '08:00:34:09',\n",
      "  'url': 'http://foobar.org/awesomeimage_76109.jpg',\n",
      "  'video_reference_uuid': 'd0a26ac5-5f96-4997-85b2-b28348c4d6c3',\n",
      "  'width': 0}\n"
     ]
    }
   ],
   "source": [
    "# Although called 'video_reference_uuid', it's a logical group for annotations. \n",
    "# For an image set this might just be a random value.\n",
    "video_reference_uuid = annotation['video_reference_uuid']\n",
    "\n",
    "# Minimum required fields. Note that one or more indexes are required. I use recorded_timestamp here, \n",
    "# but you could also use 'elapased_time_millis' or 'timecode'\n",
    "image = post(image_url, data = {\n",
    "    \"video_reference_uuid\": video_reference_uuid,\n",
    "    \"url\": \"http://foobar.org/awesomeimage_\" + str(random.randint(0, 100000)) + \".jpg\",\n",
    "    \"recorded_timestamp\": annotation['recorded_timestamp']})\n",
    "show(\"POST:\" + image_url, image)\n"
   ]
  },
  {
   "cell_type": "code",
   "execution_count": 423,
   "metadata": {
    "collapsed": false
   },
   "outputs": [
    {
     "name": "stdout",
     "output_type": "stream",
     "text": [
      "--- POST: http://134.89.9.70:8080/v1/images\n",
      "{ 'description': 'left-image',\n",
      "  'elapsed_time_millis': 123456,\n",
      "  'format': 'image/jpg',\n",
      "  'height': 1080,\n",
      "  'image_reference_uuid': 'e3e388a0-7d63-4898-9603-badbb0abb0c1',\n",
      "  'imaged_moment_uuid': '113aabd2-02b5-45ad-abf6-bc82e9d89b4a',\n",
      "  'recorded_timestamp': '2017-02-16T19:19:39.533467Z',\n",
      "  'timecode': '01:23:45:09',\n",
      "  'url': 'http://foobar.org/onfleekimage_16799.jpg',\n",
      "  'video_reference_uuid': 'd0a26ac5-5f96-4997-85b2-b28348c4d6c3',\n",
      "  'width': 1920}\n"
     ]
    }
   ],
   "source": [
    "# Create with all fields\n",
    "image = post(image_url, data = {\n",
    "    \"video_reference_uuid\": video_reference_uuid,\n",
    "    \"url\": \"http://foobar.org/onfleekimage_\" + str(random.randint(0, 100000)) + \".jpg\",\n",
    "    \"recorded_timestamp\": iso8601(),\n",
    "    \"timecode\": \"01:23:45:09\",\n",
    "    \"elapsed_time_millis\": 123456,\n",
    "    \"width_pixels\": 1920,\n",
    "    \"height_pixels\": 1080,\n",
    "    \"format\": \"image/jpg\",\n",
    "    \"description\": \"left-image\"})\n",
    "show(\"POST: \" + image_url , image)"
   ]
  },
  {
   "cell_type": "markdown",
   "metadata": {},
   "source": [
    "### Update"
   ]
  },
  {
   "cell_type": "code",
   "execution_count": 424,
   "metadata": {
    "collapsed": false
   },
   "outputs": [
    {
     "name": "stdout",
     "output_type": "stream",
     "text": [
      "--- PUT: http://134.89.9.70:8080/v1/images/e3e388a0-7d63-4898-9603-badbb0abb0c1\n",
      "{ 'description': 'right-image',\n",
      "  'elapsed_time_millis': 666,\n",
      "  'format': 'image/tiff',\n",
      "  'height': 980,\n",
      "  'image_reference_uuid': 'e3e388a0-7d63-4898-9603-badbb0abb0c1',\n",
      "  'imaged_moment_uuid': '4bc0a97c-cda4-462c-80f4-2c9d8070358e',\n",
      "  'recorded_timestamp': '2017-02-16T19:19:39.568148Z',\n",
      "  'timecode': '02:00:15:19',\n",
      "  'url': 'http://foobar.org/yodaimage_96097.tif',\n",
      "  'video_reference_uuid': '1b878158-2107-4f31-996b-95a5ace84c13',\n",
      "  'width': 2920}\n"
     ]
    }
   ],
   "source": [
    "# This changes all parameters, but you only need to include the ones you want to change\n",
    "put_url = \"%s/%s\" % (image_url, image['image_reference_uuid'])\n",
    "image = put(put_url, data = {\n",
    "        \"video_reference_uuid\": str(uuid.uuid4()),\n",
    "        \"url\": \"http://foobar.org/yodaimage_\" + str(random.randint(0, 100000)) + \".tif\",\n",
    "        \"recorded_timestamp\": iso8601(),\n",
    "        \"timecode\": \"02:00:15:19\",\n",
    "        \"elapsed_time_millis\": 666,\n",
    "        \"width_pixels\": 2920,\n",
    "        \"height_pixels\": 980,\n",
    "        \"format\": \"image/tiff\",\n",
    "        \"description\": \"right-image\"})\n",
    "show(\"PUT: \" + put_url, image) "
   ]
  },
  {
   "cell_type": "markdown",
   "metadata": {},
   "source": [
    "### Find"
   ]
  },
  {
   "cell_type": "code",
   "execution_count": 425,
   "metadata": {
    "collapsed": false
   },
   "outputs": [
    {
     "name": "stdout",
     "output_type": "stream",
     "text": [
      "--- GET: http://134.89.9.70:8080/v1/images/e3e388a0-7d63-4898-9603-badbb0abb0c1\n",
      "{ 'description': 'right-image',\n",
      "  'elapsed_time_millis': 666,\n",
      "  'format': 'image/tiff',\n",
      "  'height': 980,\n",
      "  'image_reference_uuid': 'e3e388a0-7d63-4898-9603-badbb0abb0c1',\n",
      "  'imaged_moment_uuid': '4bc0a97c-cda4-462c-80f4-2c9d8070358e',\n",
      "  'recorded_timestamp': '2017-02-16T19:19:39.568Z',\n",
      "  'timecode': '02:00:15:19',\n",
      "  'url': 'http://foobar.org/yodaimage_96097.tif',\n",
      "  'video_reference_uuid': '1b878158-2107-4f31-996b-95a5ace84c13',\n",
      "  'width': 2920}\n"
     ]
    }
   ],
   "source": [
    "# Find an image by image_reference_uuid\n",
    "get_url = \"%s/%s\" %(image_url, image['image_reference_uuid'])\n",
    "image = get(get_url)\n",
    "show(\"GET: \" + get_url, image)"
   ]
  },
  {
   "cell_type": "code",
   "execution_count": 426,
   "metadata": {
    "collapsed": false
   },
   "outputs": [
    {
     "name": "stdout",
     "output_type": "stream",
     "text": [
      "--- GET: http://134.89.9.70:8080/v1/images/videoreference/d0a26ac5-5f96-4997-85b2-b28348c4d6c3\n",
      "[ { 'elapsed_time_millis': 3045999,\n",
      "    'height': 0,\n",
      "    'image_reference_uuid': '018cde12-db99-41ea-9a0a-e2fe0b52ef0b',\n",
      "    'imaged_moment_uuid': '926fa4f6-368d-47d0-9396-ae00e1a329fa',\n",
      "    'recorded_timestamp': '2017-07-28T14:39:02.123Z',\n",
      "    'timecode': '08:00:34:09',\n",
      "    'url': 'http://foobar.org/awesomeimage_76109.jpg',\n",
      "    'video_reference_uuid': 'd0a26ac5-5f96-4997-85b2-b28348c4d6c3',\n",
      "    'width': 0}]\n"
     ]
    }
   ],
   "source": [
    "# Find all images for a given group (or video)\n",
    "get_url = \"%s/videoreference/%s\" % (image_url, video_reference_uuid)\n",
    "images = get(get_url)\n",
    "show(\"GET: \" + get_url, images)"
   ]
  },
  {
   "cell_type": "code",
   "execution_count": 427,
   "metadata": {
    "collapsed": false
   },
   "outputs": [
    {
     "name": "stdout",
     "output_type": "stream",
     "text": [
      "--- GET: http://134.89.9.70:8080/v1/images/url/http%3A%2F%2Ffoobar.org%2Fyodaimage_96097.tif\n",
      "{ 'description': 'right-image',\n",
      "  'elapsed_time_millis': 666,\n",
      "  'format': 'image/tiff',\n",
      "  'height': 980,\n",
      "  'image_reference_uuid': 'e3e388a0-7d63-4898-9603-badbb0abb0c1',\n",
      "  'imaged_moment_uuid': '4bc0a97c-cda4-462c-80f4-2c9d8070358e',\n",
      "  'recorded_timestamp': '2017-02-16T19:19:39.568Z',\n",
      "  'timecode': '02:00:15:19',\n",
      "  'url': 'http://foobar.org/yodaimage_96097.tif',\n",
      "  'video_reference_uuid': '1b878158-2107-4f31-996b-95a5ace84c13',\n",
      "  'width': 2920}\n"
     ]
    }
   ],
   "source": [
    "# Find image metadata by a URL. Note: you can not use the raw url, urlencode it first\n",
    "encoded_url = urllib.parse.quote_plus(image['url'])\n",
    "get_url = \"%s/url/%s\" % (image_url, encoded_url)\n",
    "image = get(get_url)\n",
    "show(\"GET: \" + get_url, image)"
   ]
  },
  {
   "cell_type": "markdown",
   "metadata": {},
   "source": [
    "# Low Level APIs\n",
    "\n",
    "## API Diagram\n",
    "\n",
    "![UML Class Diagram](https://github.com/underwatervideo/annosaurus/blob/master/src/site/images/annosaurus_classes.png)\n",
    "\n",
    "## Association API\n",
    "\n",
    "Associations are extra descriptions that you can attach to your annotation. Things like color, comments, resting upon, position in the image, a measurement, etc. Associations have the form 'link name | to concept | link value'. \n",
    "\n",
    "- link name: Tells you what the association contains. e.g. 'comment' or 'upon substrate'\n",
    "- to concept: Indicates are relation. For example if your _link name_ is `eating` the _to concept_ indicates what it's eating. e.g. 'Squid'. When referring to itself, the custom is to use a _to concept_ of `self`. (self is the default if you don't supply a _to concept_. e.g `eating | squid | nil`\n",
    "- link value: A value for the association. The default value is `nil`. Some examples:\n",
    "  - `population quantity | self | 12`\n",
    "  - `surface color | self | red`\n",
    "  - `distance measurement | self | {\"image_reference_uuid\": \"acc435...\", \"x\": [100, 234], \"y\": [34 1200], \"comment\": \"dorsal spine\"}`\n",
    "  \n",
    "A final optional parameter is the mimetype of the _link value_. The default is `text/plain`, but it could `application/json` or whatever your specific application needs\n",
    "\n",
    "### Create"
   ]
  },
  {
   "cell_type": "code",
   "execution_count": 428,
   "metadata": {
    "collapsed": false
   },
   "outputs": [
    {
     "name": "stdout",
     "output_type": "stream",
     "text": [
      "--- POST: http://134.89.9.70:8080/v1/associations\n",
      "{ 'last_updated_time': '2017-02-16T11:19:39Z',\n",
      "  'link_name': 'swimming',\n",
      "  'link_value': 'nil',\n",
      "  'mime_type': 'text/plain',\n",
      "  'to_concept': 'self',\n",
      "  'uuid': '75552ae2-96d0-472d-b8c2-551aa0e3b57c'}\n"
     ]
    }
   ],
   "source": [
    "# Create with minimum required parameters\n",
    "association = post(association_url, data = {\n",
    "    \"observation_uuid\": annotation['observation_uuid'],\n",
    "    \"link_name\": \"swimming\"})\n",
    "show(\"POST: \" + association_url, association)"
   ]
  },
  {
   "cell_type": "code",
   "execution_count": 429,
   "metadata": {
    "collapsed": false
   },
   "outputs": [
    {
     "name": "stdout",
     "output_type": "stream",
     "text": [
      "--- POST: http://134.89.9.70:8080/v1/associations\n",
      "{ 'last_updated_time': '2017-02-16T11:19:39Z',\n",
      "  'link_name': 'distance measurement',\n",
      "  'link_value': '{\"image_reference_uuid\":e3e388a0-7d63-4898-9603-badbb0abb0c1, '\n",
      "                '\"x\": [100, 234], \"y\": [34 1200], \"comment\": \"dorsal spine\"}',\n",
      "  'mime_type': 'application/json',\n",
      "  'to_concept': 'self',\n",
      "  'uuid': '4cbb2545-855c-4424-b6dd-699b7d2905a0'}\n"
     ]
    }
   ],
   "source": [
    "# Create with all possible parameters\n",
    "association = post(association_url, data = {\n",
    "    \"observation_uuid\": annotation['observation_uuid'],\n",
    "    \"link_name\": \"distance measurement\", \n",
    "    \"to_concept\": \"self\",\n",
    "    \"link_value\": '{\"image_reference_uuid\":' + image['image_reference_uuid'] + ', \"x\": [100, 234], \"y\": [34 1200], \"comment\": \"dorsal spine\"}',\n",
    "    \"mime_type\": \"application/json\"})\n",
    "show(\"POST: \" + association_url, association)"
   ]
  },
  {
   "cell_type": "markdown",
   "metadata": {},
   "source": [
    "### Update"
   ]
  },
  {
   "cell_type": "code",
   "execution_count": 430,
   "metadata": {
    "collapsed": false
   },
   "outputs": [
    {
     "name": "stdout",
     "output_type": "stream",
     "text": [
      "--- PUT: http://134.89.9.70:8080/v1/associations/4cbb2545-855c-4424-b6dd-699b7d2905a0\n",
      "{ 'last_updated_time': '2017-02-16T11:19:39Z',\n",
      "  'link_name': 'eating',\n",
      "  'link_value': 'nil',\n",
      "  'mime_type': 'text/plain',\n",
      "  'to_concept': 'Cranchia scabra',\n",
      "  'uuid': '4cbb2545-855c-4424-b6dd-699b7d2905a0'}\n"
     ]
    }
   ],
   "source": [
    "# Modify an existing association. We use all fields here but normally\n",
    "# just include the ones you are changing\n",
    "put_url = \"%s/%s\" % (association_url, association['uuid'])\n",
    "association = put(put_url, data = {\n",
    "    \"observation_uuid\": annotation[\"observation_uuid\"],\n",
    "    \"link_name\": \"eating\",\n",
    "    \"to_concept\": \"Cranchia scabra\",\n",
    "    \"link_value\": \"nil\",\n",
    "    \"mime_type\": \"text/plain\"})\n",
    "show(\"PUT: \" + put_url, association)"
   ]
  },
  {
   "cell_type": "code",
   "execution_count": 431,
   "metadata": {
    "collapsed": false
   },
   "outputs": [
    {
     "name": "stdout",
     "output_type": "stream",
     "text": [
      "--- PUT: http://134.89.9.70:8080/v1/associations/toconcept/rename\n",
      "{ 'new_concept': 'Taonius borealis',\n",
      "  'number_updated': '0',\n",
      "  'old_concept': 'Cranchia scabra'}\n"
     ]
    }
   ],
   "source": [
    "# Special method to change ALL to_concepts in the data store. Useful when you've changed\n",
    "# a species name and need to update all data\n",
    "put_url = \"%s/toconcept/rename\" % (association_url)\n",
    "r = put(put_url, data = {\n",
    "        \"old\": \"Cranchia scabra\",\n",
    "        \"new\": \"Taonius borealis\"})\n",
    "show(\"PUT: \" + put_url, r)"
   ]
  },
  {
   "cell_type": "markdown",
   "metadata": {},
   "source": [
    "### Find"
   ]
  },
  {
   "cell_type": "code",
   "execution_count": 432,
   "metadata": {
    "collapsed": false
   },
   "outputs": [
    {
     "name": "stdout",
     "output_type": "stream",
     "text": [
      "--- GET: http://134.89.9.70:8080/v1/associations/4cbb2545-855c-4424-b6dd-699b7d2905a0\n",
      "{ 'last_updated_time': '2017-02-16T11:19:39Z',\n",
      "  'link_name': 'eating',\n",
      "  'link_value': 'nil',\n",
      "  'mime_type': 'text/plain',\n",
      "  'to_concept': 'Cranchia scabra',\n",
      "  'uuid': '4cbb2545-855c-4424-b6dd-699b7d2905a0'}\n"
     ]
    }
   ],
   "source": [
    "# Find by uuid\n",
    "get_url = \"%s/%s\" % (association_url, association['uuid'])\n",
    "association = get(get_url)\n",
    "show(\"GET: \" + get_url, association)"
   ]
  },
  {
   "cell_type": "code",
   "execution_count": 433,
   "metadata": {
    "collapsed": false
   },
   "outputs": [
    {
     "name": "stdout",
     "output_type": "stream",
     "text": [
      "--- GET: http://134.89.9.70:8080/v1/associations/d0a26ac5-5f96-4997-85b2-b28348c4d6c3/eating\n",
      "[ { 'last_updated_time': '2017-02-16T11:19:39Z',\n",
      "    'link_name': 'eating',\n",
      "    'link_value': 'nil',\n",
      "    'mime_type': 'text/plain',\n",
      "    'to_concept': 'Cranchia scabra',\n",
      "    'uuid': '4cbb2545-855c-4424-b6dd-699b7d2905a0'}]\n"
     ]
    }
   ],
   "source": [
    "# Find all associations in a video or image group with a given link_name\n",
    "get_url = \"%s/%s/%s\" % (association_url, annotation['video_reference_uuid'], \"eating\")\n",
    "associations = get(get_url)\n",
    "show(\"GET: \" + get_url, associations)"
   ]
  },
  {
   "cell_type": "code",
   "execution_count": 434,
   "metadata": {
    "collapsed": false
   },
   "outputs": [
    {
     "name": "stdout",
     "output_type": "stream",
     "text": [
      "--- GET: http://134.89.9.70:8080/v1/associations/toconcept/count/Taonius borealis\n",
      "{'concept': 'Taonius borealis', 'count': '0'}\n"
     ]
    }
   ],
   "source": [
    "# Count the number of usages of a particular to_concept.\n",
    "get_url = \"%s/toconcept/count/%s\" % (association_url, \"Taonius borealis\")\n",
    "r = get(get_url)\n",
    "show(\"GET: \" + get_url, r)"
   ]
  },
  {
   "cell_type": "markdown",
   "metadata": {},
   "source": [
    "### Delete"
   ]
  },
  {
   "cell_type": "code",
   "execution_count": 435,
   "metadata": {
    "collapsed": false
   },
   "outputs": [
    {
     "name": "stdout",
     "output_type": "stream",
     "text": [
      "URL: http://134.89.9.70:8080/v1/associations/4cbb2545-855c-4424-b6dd-699b7d2905a0\n",
      "204 (Success! Deleted association with UUID of 4cbb2545-855c-4424-b6dd-699b7d2905a0): \n"
     ]
    },
    {
     "data": {
      "text/plain": [
       "{}"
      ]
     },
     "execution_count": 435,
     "metadata": {},
     "output_type": "execute_result"
    }
   ],
   "source": [
    "delete_url = \"%s/%s\" % (association_url, association['uuid'])\n",
    "delete(delete_url)"
   ]
  },
  {
   "cell_type": "markdown",
   "metadata": {},
   "source": [
    "## ImagedMoment API\n",
    "\n",
    "All images and annotations must be related back to real-world time AND/OR a moment in a video. This is represented by an imaged moment which contains:\n",
    "\n",
    "- timecode\n",
    "- elapsed time (since the start of a video)\n",
    "- recorded timestamp (the time that an image or video frame was captured\n",
    "\n",
    "When you set one of these indicies using the Annotation or Image API the appropriate imaged moment is created (if needed) or the data will be moved to an existing imaged moment. You can __not__ create an ImagedMoment directly with this API.\n",
    "\n",
    "### Find"
   ]
  },
  {
   "cell_type": "code",
   "execution_count": 436,
   "metadata": {
    "collapsed": false
   },
   "outputs": [
    {
     "name": "stdout",
     "output_type": "stream",
     "text": [
      "--- GET: http://134.89.9.70:8080/v1/imagedmoments\n",
      "[ { 'image_references': [],\n",
      "    'last_updated_time': '2017-02-16T11:18:30Z',\n",
      "    'observations': [ { 'associations': [],\n",
      "                        'concept': 'Nanomia bijuga',\n",
      "                        'last_updated_time': '2017-02-16T11:18:30Z',\n",
      "                        'observation_timestamp': '2017-02-16T19:18:28.775Z',\n",
      "                        'observer': 'brian',\n",
      "                        'uuid': '38040f18-1033-4696-9bc7-81536a37122c'}],\n",
      "    'recorded_date': '2016-07-28T14:29:01.030Z',\n",
      "    'uuid': '12edbf8d-d539-4ee0-a022-9d3d4985ba69',\n",
      "    'video_reference_uuid': '007cb3e1-5a2e-498f-876e-cb355334122b'},\n",
      "  { 'elapsed_time': 3045999,\n",
      "    'image_references': [ { 'height_pixels': 0,\n",
      "                            'last_updated_time': '2017-02-16T11:18:30Z',\n",
      "                            'url': 'http://foobar.org/awesomeimage_2198.jpg',\n",
      "                            'uuid': '6278f84d-371d-428c-9bb8-63685d172b9a',\n",
      "                            'width_pixels': 0}],\n",
      "    'last_updated_time': '2017-02-16T11:18:30Z',\n",
      "    'observations': [ { 'activity': 'descent',\n",
      "                        'associations': [ { 'last_updated_time': '2017-02-16T11:18:30Z',\n",
      "                                            'link_name': 'swimming',\n",
      "                                            'link_value': 'nil',\n",
      "                                            'mime_type': 'text/plain',\n",
      "                                            'to_concept': 'self',\n",
      "                                            'uuid': 'caae073e-3792-48d6-946e-b0159576e1a7'}],\n",
      "                        'concept': 'Pandalus platyceros',\n",
      "                        'duration_millis': 8,\n",
      "                        'group': 'AUV',\n",
      "                        'last_updated_time': '2017-02-16T11:18:30Z',\n",
      "                        'observation_timestamp': '2017-02-16T19:18:30.382Z',\n",
      "                        'observer': 'danelle',\n",
      "                        'uuid': '174d00b8-f5d9-4807-92ba-779779d54b5d'}],\n",
      "    'recorded_date': '2017-07-28T14:39:02.123Z',\n",
      "    'timecode': '08:00:34:09',\n",
      "    'uuid': 'aff7b45d-3e3f-42eb-9f10-2677f3c6ea70',\n",
      "    'video_reference_uuid': 'ed0e2101-5e03-4f78-bc41-235c60fc6a69'},\n",
      "  { 'elapsed_time': 666,\n",
      "    'image_references': [ { 'description': 'right-image',\n",
      "                            'format': 'image/tiff',\n",
      "                            'height_pixels': 980,\n",
      "                            'last_updated_time': '2017-02-16T11:18:30Z',\n",
      "                            'url': 'http://foobar.org/yodaimage_69872.tif',\n",
      "                            'uuid': '1ca447f6-be9c-4f2a-b95e-903e517dcbed',\n",
      "                            'width_pixels': 2920}],\n",
      "    'last_updated_time': '2017-02-16T11:18:30Z',\n",
      "    'observations': [],\n",
      "    'recorded_date': '2017-02-16T19:18:30.607Z',\n",
      "    'timecode': '02:00:15:19',\n",
      "    'uuid': '339afee0-0bc5-43b3-b5a6-fad86991a506',\n",
      "    'video_reference_uuid': '8ab8197f-6b04-4a05-93f6-434f26a4b006'},\n",
      "  { 'image_references': [],\n",
      "    'last_updated_time': '2017-02-16T11:19:39Z',\n",
      "    'observations': [ { 'associations': [],\n",
      "                        'concept': 'Nanomia bijuga',\n",
      "                        'last_updated_time': '2017-02-16T11:19:39Z',\n",
      "                        'observation_timestamp': '2017-02-16T19:19:39.311Z',\n",
      "                        'observer': 'brian',\n",
      "                        'uuid': 'db725805-6297-4adc-b36c-8f88dc828b2b'}],\n",
      "    'recorded_date': '2016-07-28T14:29:01.030Z',\n",
      "    'uuid': 'b6dc8ba9-07c2-4257-b5ea-4f8cb192f573',\n",
      "    'video_reference_uuid': 'eb7573be-9ce1-446c-ac05-75781e420db2'},\n",
      "  { 'elapsed_time': 3045999,\n",
      "    'image_references': [ { 'height_pixels': 0,\n",
      "                            'last_updated_time': '2017-02-16T11:19:39Z',\n",
      "                            'url': 'http://foobar.org/awesomeimage_76109.jpg',\n",
      "                            'uuid': '018cde12-db99-41ea-9a0a-e2fe0b52ef0b',\n",
      "                            'width_pixels': 0}],\n",
      "    'last_updated_time': '2017-02-16T11:19:39Z',\n",
      "    'observations': [ { 'activity': 'descent',\n",
      "                        'associations': [ { 'last_updated_time': '2017-02-16T11:19:39Z',\n",
      "                                            'link_name': 'swimming',\n",
      "                                            'link_value': 'nil',\n",
      "                                            'mime_type': 'text/plain',\n",
      "                                            'to_concept': 'self',\n",
      "                                            'uuid': '75552ae2-96d0-472d-b8c2-551aa0e3b57c'}],\n",
      "                        'concept': 'Pandalus platyceros',\n",
      "                        'duration_millis': 8,\n",
      "                        'group': 'AUV',\n",
      "                        'last_updated_time': '2017-02-16T11:19:39Z',\n",
      "                        'observation_timestamp': '2017-02-16T19:19:39.405Z',\n",
      "                        'observer': 'danelle',\n",
      "                        'uuid': '1c6de7f8-7dcf-4bc5-b753-2b5866a0c877'}],\n",
      "    'recorded_date': '2017-07-28T14:39:02.123Z',\n",
      "    'timecode': '08:00:34:09',\n",
      "    'uuid': '926fa4f6-368d-47d0-9396-ae00e1a329fa',\n",
      "    'video_reference_uuid': 'd0a26ac5-5f96-4997-85b2-b28348c4d6c3'},\n",
      "  { 'elapsed_time': 666,\n",
      "    'image_references': [ { 'description': 'right-image',\n",
      "                            'format': 'image/tiff',\n",
      "                            'height_pixels': 980,\n",
      "                            'last_updated_time': '2017-02-16T11:19:39Z',\n",
      "                            'url': 'http://foobar.org/yodaimage_96097.tif',\n",
      "                            'uuid': 'e3e388a0-7d63-4898-9603-badbb0abb0c1',\n",
      "                            'width_pixels': 2920}],\n",
      "    'last_updated_time': '2017-02-16T11:19:39Z',\n",
      "    'observations': [],\n",
      "    'recorded_date': '2017-02-16T19:19:39.568Z',\n",
      "    'timecode': '02:00:15:19',\n",
      "    'uuid': '4bc0a97c-cda4-462c-80f4-2c9d8070358e',\n",
      "    'video_reference_uuid': '1b878158-2107-4f31-996b-95a5ace84c13'}]\n"
     ]
    }
   ],
   "source": [
    "# Find all (by default the limit and offset are 1000 and 0 repspectively)\n",
    "imaged_moments = get(imaged_moment_url)\n",
    "show(\"GET: \" + imaged_moment_url, imaged_moments)\n"
   ]
  },
  {
   "cell_type": "code",
   "execution_count": 437,
   "metadata": {
    "collapsed": false
   },
   "outputs": [
    {
     "name": "stdout",
     "output_type": "stream",
     "text": [
      "--- GET: http://134.89.9.70:8080/v1/imagedmoments?limit=2&offset=0\n",
      "[ { 'image_references': [],\n",
      "    'last_updated_time': '2017-02-16T11:18:30Z',\n",
      "    'observations': [ { 'associations': [],\n",
      "                        'concept': 'Nanomia bijuga',\n",
      "                        'last_updated_time': '2017-02-16T11:18:30Z',\n",
      "                        'observation_timestamp': '2017-02-16T19:18:28.775Z',\n",
      "                        'observer': 'brian',\n",
      "                        'uuid': '38040f18-1033-4696-9bc7-81536a37122c'}],\n",
      "    'recorded_date': '2016-07-28T14:29:01.030Z',\n",
      "    'uuid': '12edbf8d-d539-4ee0-a022-9d3d4985ba69',\n",
      "    'video_reference_uuid': '007cb3e1-5a2e-498f-876e-cb355334122b'},\n",
      "  { 'elapsed_time': 3045999,\n",
      "    'image_references': [ { 'height_pixels': 0,\n",
      "                            'last_updated_time': '2017-02-16T11:18:30Z',\n",
      "                            'url': 'http://foobar.org/awesomeimage_2198.jpg',\n",
      "                            'uuid': '6278f84d-371d-428c-9bb8-63685d172b9a',\n",
      "                            'width_pixels': 0}],\n",
      "    'last_updated_time': '2017-02-16T11:18:30Z',\n",
      "    'observations': [ { 'activity': 'descent',\n",
      "                        'associations': [ { 'last_updated_time': '2017-02-16T11:18:30Z',\n",
      "                                            'link_name': 'swimming',\n",
      "                                            'link_value': 'nil',\n",
      "                                            'mime_type': 'text/plain',\n",
      "                                            'to_concept': 'self',\n",
      "                                            'uuid': 'caae073e-3792-48d6-946e-b0159576e1a7'}],\n",
      "                        'concept': 'Pandalus platyceros',\n",
      "                        'duration_millis': 8,\n",
      "                        'group': 'AUV',\n",
      "                        'last_updated_time': '2017-02-16T11:18:30Z',\n",
      "                        'observation_timestamp': '2017-02-16T19:18:30.382Z',\n",
      "                        'observer': 'danelle',\n",
      "                        'uuid': '174d00b8-f5d9-4807-92ba-779779d54b5d'}],\n",
      "    'recorded_date': '2017-07-28T14:39:02.123Z',\n",
      "    'timecode': '08:00:34:09',\n",
      "    'uuid': 'aff7b45d-3e3f-42eb-9f10-2677f3c6ea70',\n",
      "    'video_reference_uuid': 'ed0e2101-5e03-4f78-bc41-235c60fc6a69'}]\n"
     ]
    }
   ],
   "source": [
    "# Find all using explicit limit and offset\n",
    "get_url = \"%s?limit=2&offset=0\" % (imaged_moment_url)\n",
    "imaged_moments = get(get_url)\n",
    "show(\"GET: \" + get_url, imaged_moments)"
   ]
  },
  {
   "cell_type": "code",
   "execution_count": 438,
   "metadata": {
    "collapsed": false
   },
   "outputs": [
    {
     "name": "stdout",
     "output_type": "stream",
     "text": [
      "--- GET: http://134.89.9.70:8080/v1/imagedmoments/12edbf8d-d539-4ee0-a022-9d3d4985ba69\n",
      "{ 'image_references': [],\n",
      "  'last_updated_time': '2017-02-16T11:18:30Z',\n",
      "  'observations': [ { 'associations': [],\n",
      "                      'concept': 'Nanomia bijuga',\n",
      "                      'last_updated_time': '2017-02-16T11:18:30Z',\n",
      "                      'observation_timestamp': '2017-02-16T19:18:28.775Z',\n",
      "                      'observer': 'brian',\n",
      "                      'uuid': '38040f18-1033-4696-9bc7-81536a37122c'}],\n",
      "  'recorded_date': '2016-07-28T14:29:01.030Z',\n",
      "  'uuid': '12edbf8d-d539-4ee0-a022-9d3d4985ba69',\n",
      "  'video_reference_uuid': '007cb3e1-5a2e-498f-876e-cb355334122b'}\n"
     ]
    }
   ],
   "source": [
    "# Find one by its UUID\n",
    "get_url = \"%s/%s\" % (imaged_moment_url, imaged_moments[0]['uuid'])\n",
    "imaged_moment = get(get_url)\n",
    "show(\"GET: \"+ get_url, imaged_moment)"
   ]
  },
  {
   "cell_type": "code",
   "execution_count": 439,
   "metadata": {
    "collapsed": false
   },
   "outputs": [
    {
     "name": "stdout",
     "output_type": "stream",
     "text": [
      "--- GET: http://134.89.9.70:8080/v1/imagedmoments/videoreference\n",
      "{ 'values': [ '007cb3e1-5a2e-498f-876e-cb355334122b',\n",
      "              '1b878158-2107-4f31-996b-95a5ace84c13',\n",
      "              '8ab8197f-6b04-4a05-93f6-434f26a4b006',\n",
      "              'd0a26ac5-5f96-4997-85b2-b28348c4d6c3',\n",
      "              'eb7573be-9ce1-446c-ac05-75781e420db2',\n",
      "              'ed0e2101-5e03-4f78-bc41-235c60fc6a69']}\n"
     ]
    }
   ],
   "source": [
    "# Find all video_reference_uuids used in the entire database\n",
    "get_url = \"%s/videoreference\" % (imaged_moment_url)\n",
    "vrs = get(get_url)\n",
    "show(\"GET: \" + get_url, vrs)"
   ]
  },
  {
   "cell_type": "code",
   "execution_count": 440,
   "metadata": {
    "collapsed": false
   },
   "outputs": [
    {
     "name": "stdout",
     "output_type": "stream",
     "text": [
      "--- GET: http://134.89.9.70:8080/v1/imagedmoments/videoreference?limit=2&offset=0\n",
      "{ 'values': [ '007cb3e1-5a2e-498f-876e-cb355334122b',\n",
      "              '1b878158-2107-4f31-996b-95a5ace84c13']}\n"
     ]
    }
   ],
   "source": [
    "# Find video_reference_uuids used in the database but limit with limit and offset\n",
    "get_url = \"%s/videoreference?limit=2&offset=0\" % (imaged_moment_url)\n",
    "vrs = get(get_url)\n",
    "show(\"GET: \" + get_url, vrs)"
   ]
  },
  {
   "cell_type": "code",
   "execution_count": 441,
   "metadata": {
    "collapsed": false
   },
   "outputs": [
    {
     "name": "stdout",
     "output_type": "stream",
     "text": [
      "--- GET: http://134.89.9.70:8080/v1/imagedmoments/videoreference/007cb3e1-5a2e-498f-876e-cb355334122b\n",
      "[ { 'image_references': [],\n",
      "    'last_updated_time': '2017-02-16T11:18:30Z',\n",
      "    'observations': [ { 'associations': [],\n",
      "                        'concept': 'Nanomia bijuga',\n",
      "                        'last_updated_time': '2017-02-16T11:18:30Z',\n",
      "                        'observation_timestamp': '2017-02-16T19:18:28.775Z',\n",
      "                        'observer': 'brian',\n",
      "                        'uuid': '38040f18-1033-4696-9bc7-81536a37122c'}],\n",
      "    'recorded_date': '2016-07-28T14:29:01.030Z',\n",
      "    'uuid': '12edbf8d-d539-4ee0-a022-9d3d4985ba69',\n",
      "    'video_reference_uuid': '007cb3e1-5a2e-498f-876e-cb355334122b'}]\n"
     ]
    }
   ],
   "source": [
    "# Find all imaged moments for a given video\n",
    "get_url = \"%s/videoreference/%s\" % (imaged_moment_url, vrs['values'][0])\n",
    "imaged_moments = get(get_url)\n",
    "show(\"GET: \" + get_url, imaged_moments)"
   ]
  },
  {
   "cell_type": "code",
   "execution_count": 442,
   "metadata": {
    "collapsed": false
   },
   "outputs": [
    {
     "name": "stdout",
     "output_type": "stream",
     "text": [
      "--- GET: http://134.89.9.70:8080/v1/imagedmoments/observation/1c6de7f8-7dcf-4bc5-b753-2b5866a0c877\n",
      "{ 'elapsed_time': 3045999,\n",
      "  'image_references': [ { 'height_pixels': 0,\n",
      "                          'last_updated_time': '2017-02-16T11:19:39Z',\n",
      "                          'url': 'http://foobar.org/awesomeimage_76109.jpg',\n",
      "                          'uuid': '018cde12-db99-41ea-9a0a-e2fe0b52ef0b',\n",
      "                          'width_pixels': 0}],\n",
      "  'last_updated_time': '2017-02-16T11:19:39Z',\n",
      "  'observations': [ { 'activity': 'descent',\n",
      "                      'associations': [ { 'last_updated_time': '2017-02-16T11:19:39Z',\n",
      "                                          'link_name': 'swimming',\n",
      "                                          'link_value': 'nil',\n",
      "                                          'mime_type': 'text/plain',\n",
      "                                          'to_concept': 'self',\n",
      "                                          'uuid': '75552ae2-96d0-472d-b8c2-551aa0e3b57c'}],\n",
      "                      'concept': 'Pandalus platyceros',\n",
      "                      'duration_millis': 8,\n",
      "                      'group': 'AUV',\n",
      "                      'last_updated_time': '2017-02-16T11:19:39Z',\n",
      "                      'observation_timestamp': '2017-02-16T19:19:39.405Z',\n",
      "                      'observer': 'danelle',\n",
      "                      'uuid': '1c6de7f8-7dcf-4bc5-b753-2b5866a0c877'}],\n",
      "  'recorded_date': '2017-07-28T14:39:02.123Z',\n",
      "  'timecode': '08:00:34:09',\n",
      "  'uuid': '926fa4f6-368d-47d0-9396-ae00e1a329fa',\n",
      "  'video_reference_uuid': 'd0a26ac5-5f96-4997-85b2-b28348c4d6c3'}\n"
     ]
    }
   ],
   "source": [
    "# Find an imaged moment by one of the observations it contains\n",
    "get_url = \"%s/observation/%s\" % (imaged_moment_url, annotation['observation_uuid'])\n",
    "imaged_moment = get(get_url)\n",
    "show(\"GET: \" + get_url, imaged_moment)"
   ]
  },
  {
   "cell_type": "markdown",
   "metadata": {},
   "source": [
    "### Update"
   ]
  },
  {
   "cell_type": "code",
   "execution_count": 443,
   "metadata": {
    "collapsed": false
   },
   "outputs": [
    {
     "name": "stdout",
     "output_type": "stream",
     "text": [
      "--- PUT: http://134.89.9.70:8080/v1/imagedmoments/926fa4f6-368d-47d0-9396-ae00e1a329fa\n",
      "{ 'elapsed_time': 3045999,\n",
      "  'image_references': [ { 'height_pixels': 0,\n",
      "                          'last_updated_time': '2017-02-16T11:19:39Z',\n",
      "                          'url': 'http://foobar.org/awesomeimage_76109.jpg',\n",
      "                          'uuid': '018cde12-db99-41ea-9a0a-e2fe0b52ef0b',\n",
      "                          'width_pixels': 0}],\n",
      "  'last_updated_time': '2017-02-16T11:19:40Z',\n",
      "  'observations': [ { 'activity': 'descent',\n",
      "                      'associations': [ { 'last_updated_time': '2017-02-16T11:19:39Z',\n",
      "                                          'link_name': 'swimming',\n",
      "                                          'link_value': 'nil',\n",
      "                                          'mime_type': 'text/plain',\n",
      "                                          'to_concept': 'self',\n",
      "                                          'uuid': '75552ae2-96d0-472d-b8c2-551aa0e3b57c'}],\n",
      "                      'concept': 'Pandalus platyceros',\n",
      "                      'duration_millis': 8,\n",
      "                      'group': 'AUV',\n",
      "                      'last_updated_time': '2017-02-16T11:19:39Z',\n",
      "                      'observation_timestamp': '2017-02-16T19:19:39.405Z',\n",
      "                      'observer': 'danelle',\n",
      "                      'uuid': '1c6de7f8-7dcf-4bc5-b753-2b5866a0c877'}],\n",
      "  'recorded_date': '2017-02-16T19:19:40.121071Z',\n",
      "  'timecode': '11:22:33:00',\n",
      "  'uuid': '926fa4f6-368d-47d0-9396-ae00e1a329fa',\n",
      "  'video_reference_uuid': '1ebe1a2d-2e8b-4770-9c8a-c758b7e47fc2'}\n"
     ]
    }
   ],
   "source": [
    "# We show all possible fields here, but you only need to include the ones you change\n",
    "put_url = \"%s/%s\" % (imaged_moment_url, imaged_moment['uuid'])\n",
    "imaged_moment = put(put_url, data = {\n",
    "    \"timecode\": \"11:22:33:00\",\n",
    "    \"elapsed_time\": 100,\n",
    "    \"recorded_timestamp\": iso8601(),\n",
    "    \"video_reference_uuid\": str(uuid.uuid4())})\n",
    "show(\"PUT: \" + put_url, imaged_moment)"
   ]
  },
  {
   "cell_type": "markdown",
   "metadata": {},
   "source": [
    "### Delete\n",
    "\n",
    "Be aware that deleting an imaged moment deletes it, all the observations at that moment, all image references at that moment and all ancillary data at that moment. Be sure that's really what you want to do."
   ]
  },
  {
   "cell_type": "code",
   "execution_count": 444,
   "metadata": {
    "collapsed": false
   },
   "outputs": [
    {
     "name": "stdout",
     "output_type": "stream",
     "text": [
      "URL: http://134.89.9.70:8080/v1/imagedmoments/926fa4f6-368d-47d0-9396-ae00e1a329fa\n",
      "204 (Success! Deleted ImagedMoment with UUID of 926fa4f6-368d-47d0-9396-ae00e1a329fa): \n"
     ]
    },
    {
     "data": {
      "text/plain": [
       "{}"
      ]
     },
     "execution_count": 444,
     "metadata": {},
     "output_type": "execute_result"
    }
   ],
   "source": [
    "delete_url = \"%s/%s\" % (imaged_moment_url, imaged_moment['uuid'])\n",
    "delete(delete_url)"
   ]
  },
  {
   "cell_type": "markdown",
   "metadata": {},
   "source": [
    "## Observation API\n",
    "\n",
    "Observations are the individual annotations. Thsi API has a number of find operations, an update one (although you can use the annotation api for that) and allows you to delete individual observations\n",
    "\n"
   ]
  },
  {
   "cell_type": "code",
   "execution_count": 445,
   "metadata": {
    "collapsed": false
   },
   "outputs": [],
   "source": [
    "# House keeping. Since we're deleting stuff, let's make sure we have something to work with\n",
    "# Create an new annotation\n",
    "annotation = post(annotation_url,\n",
    "                  data = {\"video_reference_uuid\": str(uuid.uuid4()),\n",
    "                          \"concept\": \"Nanomia bijuga\",\n",
    "                          \"observer\": \"brian\",\n",
    "                          \"recorded_timestamp\": iso8601()})\n",
    "\n",
    "association = post(association_url, data = {\n",
    "    \"observation_uuid\": annotation['observation_uuid'],\n",
    "    \"link_name\": \"swimming\"})\n",
    "\n",
    "image = post(image_url, data = {\n",
    "    \"video_reference_uuid\": annotation['video_reference_uuid'],\n",
    "    \"url\": \"http://foobar.org/awesomeimage_\" + str(random.randint(0, 100000)) + \".jpg\",\n",
    "    \"recorded_timestamp\": annotation['recorded_timestamp']})\n"
   ]
  },
  {
   "cell_type": "code",
   "execution_count": 446,
   "metadata": {
    "collapsed": true
   },
   "outputs": [],
   "source": [
    "### Find"
   ]
  },
  {
   "cell_type": "code",
   "execution_count": 447,
   "metadata": {
    "collapsed": false,
    "scrolled": true
   },
   "outputs": [
    {
     "name": "stdout",
     "output_type": "stream",
     "text": [
      "--- GET: http://134.89.9.70:8080/v1/observations/ba2339d1-e75a-4be8-89af-481c6f54de98\n",
      "{ 'associations': [ { 'last_updated_time': '2017-02-16T11:19:40Z',\n",
      "                      'link_name': 'swimming',\n",
      "                      'link_value': 'nil',\n",
      "                      'mime_type': 'text/plain',\n",
      "                      'to_concept': 'self',\n",
      "                      'uuid': '14d0be40-7224-4c18-a00a-dd050e53367e'}],\n",
      "  'concept': 'Nanomia bijuga',\n",
      "  'last_updated_time': '2017-02-16T11:19:40Z',\n",
      "  'observation_timestamp': '2017-02-16T19:19:40.217Z',\n",
      "  'observer': 'brian',\n",
      "  'uuid': 'ba2339d1-e75a-4be8-89af-481c6f54de98'}\n"
     ]
    }
   ],
   "source": [
    "# Find an observation by its uuid\n",
    "get_url = \"%s/%s\" % (observation_url, annotation['observation_uuid'])\n",
    "observation = get(get_url)\n",
    "show(\"GET: \" + get_url, observation)"
   ]
  },
  {
   "cell_type": "code",
   "execution_count": 448,
   "metadata": {
    "collapsed": false
   },
   "outputs": [
    {
     "name": "stdout",
     "output_type": "stream",
     "text": [
      "--- GET: http://134.89.9.70:8080/v1/observations/videoreference/7de4759f-9eab-4988-83e3-ad58f3dac9b1\n",
      "[ { 'associations': [ { 'last_updated_time': '2017-02-16T11:19:40Z',\n",
      "                        'link_name': 'swimming',\n",
      "                        'link_value': 'nil',\n",
      "                        'mime_type': 'text/plain',\n",
      "                        'to_concept': 'self',\n",
      "                        'uuid': '14d0be40-7224-4c18-a00a-dd050e53367e'}],\n",
      "    'concept': 'Nanomia bijuga',\n",
      "    'last_updated_time': '2017-02-16T11:19:40Z',\n",
      "    'observation_timestamp': '2017-02-16T19:19:40.217Z',\n",
      "    'observer': 'brian',\n",
      "    'uuid': 'ba2339d1-e75a-4be8-89af-481c6f54de98'}]\n"
     ]
    }
   ],
   "source": [
    "# Find observations by video\n",
    "get_url = \"%s/videoreference/%s\" % (observation_url, annotation['video_reference_uuid'])\n",
    "observations = get(get_url)\n",
    "show(\"GET: \" + get_url, observations)"
   ]
  },
  {
   "cell_type": "code",
   "execution_count": 449,
   "metadata": {
    "collapsed": false
   },
   "outputs": [
    {
     "name": "stdout",
     "output_type": "stream",
     "text": [
      "--- GET: http://134.89.9.70:8080/v1/observations/association/14d0be40-7224-4c18-a00a-dd050e53367e\n",
      "{ 'associations': [ { 'last_updated_time': '2017-02-16T11:19:40Z',\n",
      "                      'link_name': 'swimming',\n",
      "                      'link_value': 'nil',\n",
      "                      'mime_type': 'text/plain',\n",
      "                      'to_concept': 'self',\n",
      "                      'uuid': '14d0be40-7224-4c18-a00a-dd050e53367e'}],\n",
      "  'concept': 'Nanomia bijuga',\n",
      "  'last_updated_time': '2017-02-16T11:19:40Z',\n",
      "  'observation_timestamp': '2017-02-16T19:19:40.217Z',\n",
      "  'observer': 'brian',\n",
      "  'uuid': 'ba2339d1-e75a-4be8-89af-481c6f54de98'}\n"
     ]
    }
   ],
   "source": [
    "# Find by an observation by an association it contains\n",
    "get_url = \"%s/association/%s\" % (observation_url, association['uuid'])\n",
    "observation = get(get_url)\n",
    "show(\"GET: \" + get_url, observation)"
   ]
  },
  {
   "cell_type": "code",
   "execution_count": 450,
   "metadata": {
    "collapsed": false
   },
   "outputs": [
    {
     "name": "stdout",
     "output_type": "stream",
     "text": [
      "--- GET: http://134.89.9.70:8080/v1/observations/concepts\n",
      "{'values': ['Nanomia bijuga', 'Pandalus platyceros']}\n"
     ]
    }
   ],
   "source": [
    "# Find all concepts used on all annotations\n",
    "get_url = \"%s/concepts\" % (observation_url)\n",
    "concepts = get(get_url)\n",
    "show(\"GET: \" + get_url, concepts)"
   ]
  },
  {
   "cell_type": "code",
   "execution_count": 451,
   "metadata": {
    "collapsed": false
   },
   "outputs": [
    {
     "name": "stdout",
     "output_type": "stream",
     "text": [
      "--- GET: http://134.89.9.70:8080/v1/observations/concepts/7de4759f-9eab-4988-83e3-ad58f3dac9b1\n",
      "{'values': ['Nanomia bijuga']}\n"
     ]
    }
   ],
   "source": [
    "# Find all concepts used when annotating a particular video or image group\n",
    "get_url = \"%s/concepts/%s\" % (observation_url, annotation['video_reference_uuid'])\n",
    "concepts = get(get_url)\n",
    "show(\"GET: \" + get_url, concepts)"
   ]
  },
  {
   "cell_type": "markdown",
   "metadata": {},
   "source": [
    "### Update"
   ]
  },
  {
   "cell_type": "code",
   "execution_count": 452,
   "metadata": {
    "collapsed": false
   },
   "outputs": [
    {
     "name": "stdout",
     "output_type": "stream",
     "text": [
      "--- PUT: http://134.89.9.70:8080/v1/observations/ba2339d1-e75a-4be8-89af-481c6f54de98\n",
      "{ 'activity': 'descent',\n",
      "  'associations': [ { 'last_updated_time': '2017-02-16T11:19:40Z',\n",
      "                      'link_name': 'swimming',\n",
      "                      'link_value': 'nil',\n",
      "                      'mime_type': 'text/plain',\n",
      "                      'to_concept': 'self',\n",
      "                      'uuid': '14d0be40-7224-4c18-a00a-dd050e53367e'}],\n",
      "  'concept': 'Teuthoidea',\n",
      "  'group': 'AUV Dorado',\n",
      "  'last_updated_time': '2017-02-16T11:19:40Z',\n",
      "  'observation_timestamp': '2017-02-16T19:19:40.444708Z',\n",
      "  'observer': 'Barack Obama',\n",
      "  'uuid': 'ba2339d1-e75a-4be8-89af-481c6f54de98'}\n"
     ]
    }
   ],
   "source": [
    "# Update with all fields. Normally, just include the fields that you want to change\n",
    "put_url = \"%s/%s\" % (observation_url, annotation['observation_uuid'])\n",
    "observation = put(put_url, data = {\n",
    "    \"concept\": \"Teuthoidea\",\n",
    "    \"observer\": \"Barack Obama\",\n",
    "    \"observation_timestamp\": iso8601(),\n",
    "    \"duration\": 1000,\n",
    "    \"group\": \"AUV Dorado\",\n",
    "    \"activity\": \"descent\"})\n",
    "# There's also an imaged_moment_uuid field if you want to move an observation to a different moment.\n",
    "# I didn't include it because of time and more complicated setup.\n",
    "\n",
    "show(\"PUT: \" + put_url, observation)"
   ]
  },
  {
   "cell_type": "code",
   "execution_count": 453,
   "metadata": {
    "collapsed": true
   },
   "outputs": [],
   "source": [
    "### Delete"
   ]
  },
  {
   "cell_type": "code",
   "execution_count": 454,
   "metadata": {
    "collapsed": false
   },
   "outputs": [
    {
     "name": "stdout",
     "output_type": "stream",
     "text": [
      "URL: http://134.89.9.70:8080/v1/observations/ba2339d1-e75a-4be8-89af-481c6f54de98\n",
      "204 (Success! Deleted observation with UUID of ba2339d1-e75a-4be8-89af-481c6f54de98): \n"
     ]
    },
    {
     "data": {
      "text/plain": [
       "{}"
      ]
     },
     "execution_count": 454,
     "metadata": {},
     "output_type": "execute_result"
    }
   ],
   "source": [
    "# Note that if an imaged moment only contains the observation you are deleting\n",
    "# the imaged_moment will be deleted to.\n",
    "delete_url = \"%s/%s\" % (observation_url, annotation['observation_uuid'])\n",
    "delete(delete_url)"
   ]
  },
  {
   "cell_type": "markdown",
   "metadata": {
    "collapsed": true
   },
   "source": [
    "## ImageReference API\n",
    "\n",
    "ImageReference is a pointer to an actual image. In general, you use the Image API to create and update them. You will need to use the ImageReference API to delete them though\n",
    "\n",
    "### Update"
   ]
  },
  {
   "cell_type": "code",
   "execution_count": 455,
   "metadata": {
    "collapsed": false
   },
   "outputs": [
    {
     "name": "stdout",
     "output_type": "stream",
     "text": [
      "--- PUT: http://134.89.9.70:8080/v1/imagereferences/b72a54b6-62b3-404e-a6b9-fa788c4f9e4e\n",
      "{ 'description': 'Tripod-mounted camera image',\n",
      "  'format': 'image/webp',\n",
      "  'height_pixels': 3000,\n",
      "  'last_updated_time': '2017-02-16T11:19:40Z',\n",
      "  'url': 'http://foobar.org/vaderimage_95045.webp',\n",
      "  'uuid': 'b72a54b6-62b3-404e-a6b9-fa788c4f9e4e',\n",
      "  'width_pixels': 5000}\n"
     ]
    }
   ],
   "source": [
    "# As before we show all params you can change. But you only have to provide the ones you \n",
    "# are actually changing\n",
    "put_url = \"%s/%s\" % (image_reference_url, image['image_reference_uuid'])\n",
    "image_reference = put(put_url, data = {\n",
    "    \"url\": \"http://foobar.org/vaderimage_\" + str(random.randint(0, 100000)) + \".webp\",\n",
    "    \"format\": \"image/webp\",\n",
    "    \"width_pixels\": 5000,\n",
    "    \"height_pixels\": 3000,\n",
    "    \"description\": \"Tripod-mounted camera image\",\n",
    "    \"imaged_moment_uuid\": annotation['imaged_moment_uuid']\n",
    "    })\n",
    "show(\"PUT: \" + put_url, image_reference)"
   ]
  },
  {
   "cell_type": "markdown",
   "metadata": {},
   "source": [
    "### Find"
   ]
  },
  {
   "cell_type": "code",
   "execution_count": 456,
   "metadata": {
    "collapsed": false
   },
   "outputs": [
    {
     "name": "stdout",
     "output_type": "stream",
     "text": [
      "--- GET: http://134.89.9.70:8080/v1/imagereferences/b72a54b6-62b3-404e-a6b9-fa788c4f9e4e\n",
      "{ 'description': 'Tripod-mounted camera image',\n",
      "  'format': 'image/webp',\n",
      "  'height_pixels': 3000,\n",
      "  'last_updated_time': '2017-02-16T11:19:40Z',\n",
      "  'url': 'http://foobar.org/vaderimage_95045.webp',\n",
      "  'uuid': 'b72a54b6-62b3-404e-a6b9-fa788c4f9e4e',\n",
      "  'width_pixels': 5000}\n"
     ]
    }
   ],
   "source": [
    "get_url = \"%s/%s\" % (image_reference_url, image_reference['uuid'])\n",
    "image_reference = get(get_url)\n",
    "show(\"GET: \" + get_url, image_reference)\n"
   ]
  },
  {
   "cell_type": "markdown",
   "metadata": {},
   "source": [
    "### Delete"
   ]
  },
  {
   "cell_type": "code",
   "execution_count": 457,
   "metadata": {
    "collapsed": false
   },
   "outputs": [
    {
     "name": "stdout",
     "output_type": "stream",
     "text": [
      "URL: http://134.89.9.70:8080/v1/imagereferences/b72a54b6-62b3-404e-a6b9-fa788c4f9e4e\n",
      "204 (Success! Deleted observation with UUID of b72a54b6-62b3-404e-a6b9-fa788c4f9e4e): \n"
     ]
    },
    {
     "data": {
      "text/plain": [
       "{}"
      ]
     },
     "execution_count": 457,
     "metadata": {},
     "output_type": "execute_result"
    }
   ],
   "source": [
    "delete_url = \"%s/%s\" % (image_reference_url, image_reference['uuid'])\n",
    "delete(delete_url)"
   ]
  },
  {
   "cell_type": "code",
   "execution_count": null,
   "metadata": {
    "collapsed": true
   },
   "outputs": [],
   "source": []
  }
 ],
 "metadata": {
  "anaconda-cloud": {},
  "kernelspec": {
   "display_name": "Python [default]",
   "language": "python",
   "name": "python3"
  },
  "language_info": {
   "codemirror_mode": {
    "name": "ipython",
    "version": 3
   },
   "file_extension": ".py",
   "mimetype": "text/x-python",
   "name": "python",
   "nbconvert_exporter": "python",
   "pygments_lexer": "ipython3",
   "version": "3.5.2"
  }
 },
 "nbformat": 4,
 "nbformat_minor": 1
}
